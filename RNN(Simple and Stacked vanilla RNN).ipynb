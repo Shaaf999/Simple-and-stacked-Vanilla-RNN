{
 "cells": [
  {
   "cell_type": "markdown",
   "id": "c49e662c",
   "metadata": {},
   "source": [
    "# Simple Vanilla RNN"
   ]
  },
  {
   "cell_type": "code",
   "execution_count": 1,
   "id": "1db90b68",
   "metadata": {},
   "outputs": [],
   "source": [
    "import numpy as np\n",
    "\n",
    "from sklearn.metrics import accuracy_score\n",
    "from keras.datasets import reuters\n",
    "from keras.preprocessing.sequence import pad_sequences\n",
    "from keras.utils.np_utils import to_categorical\n"
   ]
  },
  {
   "cell_type": "code",
   "execution_count": 2,
   "id": "576c05cc",
   "metadata": {},
   "outputs": [],
   "source": [
    "num_words = 30000\n",
    "maxlen = 50\n",
    "test_split = 0.3\n"
   ]
  },
  {
   "cell_type": "code",
   "execution_count": 3,
   "id": "bfacc6d7",
   "metadata": {},
   "outputs": [],
   "source": [
    "(X_train, y_train), (X_test, y_test) = reuters.load_data(num_words = num_words, maxlen = maxlen, test_split = test_split)"
   ]
  },
  {
   "cell_type": "code",
   "execution_count": 4,
   "id": "4bd52494",
   "metadata": {},
   "outputs": [
    {
     "data": {
      "text/plain": [
       "array([ 0,  1,  2,  3,  4,  6,  8,  9, 10, 11, 12, 13, 14, 16, 17, 18, 19,\n",
       "       20, 21, 23, 24, 25, 28, 30, 32, 34, 36, 37, 38, 39, 45],\n",
       "      dtype=int64)"
      ]
     },
     "execution_count": 4,
     "metadata": {},
     "output_type": "execute_result"
    }
   ],
   "source": [
    "np.unique(y_train)"
   ]
  },
  {
   "cell_type": "code",
   "execution_count": 5,
   "id": "4fbbd0ed",
   "metadata": {},
   "outputs": [
    {
     "data": {
      "text/plain": [
       "[1,\n",
       " 53,\n",
       " 78,\n",
       " 26,\n",
       " 14,\n",
       " 78,\n",
       " 26,\n",
       " 39,\n",
       " 4452,\n",
       " 6169,\n",
       " 14,\n",
       " 4399,\n",
       " 4277,\n",
       " 86,\n",
       " 44,\n",
       " 3652,\n",
       " 5379,\n",
       " 14,\n",
       " 47,\n",
       " 3785,\n",
       " 5241,\n",
       " 17,\n",
       " 12]"
      ]
     },
     "execution_count": 5,
     "metadata": {},
     "output_type": "execute_result"
    }
   ],
   "source": [
    "X_train[23]"
   ]
  },
  {
   "cell_type": "code",
   "execution_count": 6,
   "id": "e01d0233",
   "metadata": {},
   "outputs": [],
   "source": [
    "X_train = pad_sequences(X_train,padding = 'pre')\n",
    "X_test = pad_sequences(X_test,padding = 'pre')"
   ]
  },
  {
   "cell_type": "code",
   "execution_count": 7,
   "id": "9a3a869e",
   "metadata": {},
   "outputs": [],
   "source": [
    "X_train = np.array(X_train.reshape((X_train.shape[0]),X_train.shape[1], 1))\n",
    "X_test = np.array(X_test.reshape((X_test.shape[0]),X_test.shape[1], 1))\n",
    "                                                        "
   ]
  },
  {
   "cell_type": "code",
   "execution_count": 8,
   "id": "d5ae702e",
   "metadata": {},
   "outputs": [],
   "source": [
    "y_data=np.concatenate((y_train, y_test))\n",
    "y_data= to_categorical(y_data)"
   ]
  },
  {
   "cell_type": "code",
   "execution_count": 9,
   "id": "80ebe8b5",
   "metadata": {},
   "outputs": [],
   "source": [
    "y_train =  y_data[:1395]\n",
    "y_test=y_data[1395:]"
   ]
  },
  {
   "cell_type": "code",
   "execution_count": 10,
   "id": "4ffd32d4",
   "metadata": {},
   "outputs": [
    {
     "name": "stdout",
     "output_type": "stream",
     "text": [
      "(1395, 49, 1)\n",
      "(599, 49, 1)\n",
      "(1395, 46)\n",
      "(599, 46)\n"
     ]
    }
   ],
   "source": [
    "print(X_train.shape)\n",
    "print(X_test.shape)\n",
    "print(y_train.shape)\n",
    "print(y_test.shape)"
   ]
  },
  {
   "cell_type": "code",
   "execution_count": 11,
   "id": "9c787f71",
   "metadata": {},
   "outputs": [],
   "source": [
    "import tensorflow as tf"
   ]
  },
  {
   "cell_type": "code",
   "execution_count": 12,
   "id": "66a06c38",
   "metadata": {},
   "outputs": [],
   "source": [
    "from keras.models import Sequential\n",
    "from keras.layers import Dense, SimpleRNN, Activation\n",
    "\n",
    "from keras.wrappers.scikit_learn import KerasClassifier"
   ]
  },
  {
   "cell_type": "code",
   "execution_count": 13,
   "id": "c5d0e6d1",
   "metadata": {},
   "outputs": [],
   "source": [
    "model = Sequential()\n",
    "model.add(SimpleRNN(50, input_shape = (49,1), return_sequences = False))\n",
    "model.add(Dense(46))\n",
    "model.add(Activation('softmax'))\n"
   ]
  },
  {
   "cell_type": "code",
   "execution_count": 37,
   "id": "93a0e71e",
   "metadata": {},
   "outputs": [],
   "source": [
    "model = Sequential()\n",
    "model.add(SimpleRNN(50, input_shape = (49,1), return_sequences = False))\n",
    "model.add(Dense(46))\n",
    "model.add(Activation('softmax'))\n",
    "\n",
    "from keras import optimizers\n",
    "import tensorflow as tf\n",
    "\n",
    "adam = tf.keras.optimizers.Adam(learning_rate = 0.001)\n",
    "model.compile(loss = 'categorical_crossentropy', optimizer = adam, metrics = ['accuracy'])\n"
   ]
  },
  {
   "cell_type": "code",
   "execution_count": 38,
   "id": "e1e5af55",
   "metadata": {},
   "outputs": [
    {
     "name": "stdout",
     "output_type": "stream",
     "text": [
      "Epoch 1/50\n",
      "23/23 [==============================] - 1s 22ms/step - loss: 3.2303 - accuracy: 0.3226 - val_loss: 1.9692 - val_accuracy: 0.7240\n",
      "Epoch 2/50\n",
      "23/23 [==============================] - 0s 11ms/step - loss: 1.5619 - accuracy: 0.7124 - val_loss: 1.2328 - val_accuracy: 0.7240\n",
      "Epoch 3/50\n",
      "23/23 [==============================] - 0s 12ms/step - loss: 1.2532 - accuracy: 0.7124 - val_loss: 1.1302 - val_accuracy: 0.7240\n",
      "Epoch 4/50\n",
      "23/23 [==============================] - 0s 11ms/step - loss: 1.2006 - accuracy: 0.7124 - val_loss: 1.1083 - val_accuracy: 0.7240\n",
      "Epoch 5/50\n",
      "23/23 [==============================] - 0s 10ms/step - loss: 1.1847 - accuracy: 0.7124 - val_loss: 1.0948 - val_accuracy: 0.7240\n",
      "Epoch 6/50\n",
      "23/23 [==============================] - 0s 11ms/step - loss: 1.1750 - accuracy: 0.7124 - val_loss: 1.0858 - val_accuracy: 0.7240\n",
      "Epoch 7/50\n",
      "23/23 [==============================] - 0s 11ms/step - loss: 1.1637 - accuracy: 0.7124 - val_loss: 1.0787 - val_accuracy: 0.7240\n",
      "Epoch 8/50\n",
      "23/23 [==============================] - 0s 11ms/step - loss: 1.1554 - accuracy: 0.7124 - val_loss: 1.0702 - val_accuracy: 0.7240\n",
      "Epoch 9/50\n",
      "23/23 [==============================] - 0s 11ms/step - loss: 1.1521 - accuracy: 0.7124 - val_loss: 1.0675 - val_accuracy: 0.7240\n",
      "Epoch 10/50\n",
      "23/23 [==============================] - 0s 11ms/step - loss: 1.1481 - accuracy: 0.7124 - val_loss: 1.0649 - val_accuracy: 0.7240\n",
      "Epoch 11/50\n",
      "23/23 [==============================] - 0s 11ms/step - loss: 1.1368 - accuracy: 0.7124 - val_loss: 1.0581 - val_accuracy: 0.7240\n",
      "Epoch 12/50\n",
      "23/23 [==============================] - 0s 11ms/step - loss: 1.1340 - accuracy: 0.7124 - val_loss: 1.0532 - val_accuracy: 0.7240\n",
      "Epoch 13/50\n",
      "23/23 [==============================] - 0s 11ms/step - loss: 1.1249 - accuracy: 0.7124 - val_loss: 1.0482 - val_accuracy: 0.7240\n",
      "Epoch 14/50\n",
      "23/23 [==============================] - 0s 11ms/step - loss: 1.1180 - accuracy: 0.7124 - val_loss: 1.0443 - val_accuracy: 0.7240\n",
      "Epoch 15/50\n",
      "23/23 [==============================] - 0s 12ms/step - loss: 1.1113 - accuracy: 0.7124 - val_loss: 1.0358 - val_accuracy: 0.7240\n",
      "Epoch 16/50\n",
      "23/23 [==============================] - 0s 11ms/step - loss: 1.1041 - accuracy: 0.7124 - val_loss: 1.0339 - val_accuracy: 0.7240\n",
      "Epoch 17/50\n",
      "23/23 [==============================] - 0s 13ms/step - loss: 1.0941 - accuracy: 0.7124 - val_loss: 1.0533 - val_accuracy: 0.7240\n",
      "Epoch 18/50\n",
      "23/23 [==============================] - 0s 11ms/step - loss: 1.1026 - accuracy: 0.7124 - val_loss: 1.0248 - val_accuracy: 0.7240\n",
      "Epoch 19/50\n",
      "23/23 [==============================] - 0s 12ms/step - loss: 1.0860 - accuracy: 0.7124 - val_loss: 1.0187 - val_accuracy: 0.7240\n",
      "Epoch 20/50\n",
      "23/23 [==============================] - 0s 12ms/step - loss: 1.0772 - accuracy: 0.7124 - val_loss: 1.0199 - val_accuracy: 0.7240\n",
      "Epoch 21/50\n",
      "23/23 [==============================] - 0s 11ms/step - loss: 1.0688 - accuracy: 0.7124 - val_loss: 1.0148 - val_accuracy: 0.7240\n",
      "Epoch 22/50\n",
      "23/23 [==============================] - 0s 11ms/step - loss: 1.0601 - accuracy: 0.7124 - val_loss: 0.9992 - val_accuracy: 0.7240\n",
      "Epoch 23/50\n",
      "23/23 [==============================] - 0s 11ms/step - loss: 1.0547 - accuracy: 0.7124 - val_loss: 0.9939 - val_accuracy: 0.7240\n",
      "Epoch 24/50\n",
      "23/23 [==============================] - 0s 11ms/step - loss: 1.0475 - accuracy: 0.7124 - val_loss: 0.9849 - val_accuracy: 0.7240\n",
      "Epoch 25/50\n",
      "23/23 [==============================] - 0s 12ms/step - loss: 1.0487 - accuracy: 0.7142 - val_loss: 0.9865 - val_accuracy: 0.7276\n",
      "Epoch 26/50\n",
      "23/23 [==============================] - 0s 11ms/step - loss: 1.0361 - accuracy: 0.7124 - val_loss: 0.9840 - val_accuracy: 0.7276\n",
      "Epoch 27/50\n",
      "23/23 [==============================] - 0s 11ms/step - loss: 1.0303 - accuracy: 0.7204 - val_loss: 0.9800 - val_accuracy: 0.7276\n",
      "Epoch 28/50\n",
      "23/23 [==============================] - 0s 11ms/step - loss: 1.0284 - accuracy: 0.7231 - val_loss: 0.9827 - val_accuracy: 0.7276\n",
      "Epoch 29/50\n",
      "23/23 [==============================] - 0s 11ms/step - loss: 1.0258 - accuracy: 0.7258 - val_loss: 0.9772 - val_accuracy: 0.7276\n",
      "Epoch 30/50\n",
      "23/23 [==============================] - 0s 11ms/step - loss: 1.0219 - accuracy: 0.7240 - val_loss: 0.9744 - val_accuracy: 0.7276\n",
      "Epoch 31/50\n",
      "23/23 [==============================] - 0s 11ms/step - loss: 1.0149 - accuracy: 0.7294 - val_loss: 0.9795 - val_accuracy: 0.7276\n",
      "Epoch 32/50\n",
      "23/23 [==============================] - 0s 11ms/step - loss: 1.0104 - accuracy: 0.7294 - val_loss: 0.9673 - val_accuracy: 0.7276\n",
      "Epoch 33/50\n",
      "23/23 [==============================] - 0s 11ms/step - loss: 1.0152 - accuracy: 0.7240 - val_loss: 0.9653 - val_accuracy: 0.7276\n",
      "Epoch 34/50\n",
      "23/23 [==============================] - 0s 11ms/step - loss: 1.0136 - accuracy: 0.7258 - val_loss: 0.9743 - val_accuracy: 0.7276\n",
      "Epoch 35/50\n",
      "23/23 [==============================] - 0s 11ms/step - loss: 1.0078 - accuracy: 0.7294 - val_loss: 0.9624 - val_accuracy: 0.7276\n",
      "Epoch 36/50\n",
      "23/23 [==============================] - 0s 11ms/step - loss: 0.9974 - accuracy: 0.7294 - val_loss: 0.9652 - val_accuracy: 0.7276\n",
      "Epoch 37/50\n",
      "23/23 [==============================] - 0s 11ms/step - loss: 0.9940 - accuracy: 0.7303 - val_loss: 0.9570 - val_accuracy: 0.7276\n",
      "Epoch 38/50\n",
      "23/23 [==============================] - 0s 11ms/step - loss: 0.9925 - accuracy: 0.7303 - val_loss: 0.9711 - val_accuracy: 0.7276\n",
      "Epoch 39/50\n",
      "23/23 [==============================] - 0s 11ms/step - loss: 0.9907 - accuracy: 0.7312 - val_loss: 0.9599 - val_accuracy: 0.7276\n",
      "Epoch 40/50\n",
      "23/23 [==============================] - 0s 12ms/step - loss: 0.9887 - accuracy: 0.7303 - val_loss: 0.9537 - val_accuracy: 0.7276\n",
      "Epoch 41/50\n",
      "23/23 [==============================] - 0s 10ms/step - loss: 0.9827 - accuracy: 0.7330 - val_loss: 0.9551 - val_accuracy: 0.7240\n",
      "Epoch 42/50\n",
      "23/23 [==============================] - 0s 11ms/step - loss: 0.9837 - accuracy: 0.7303 - val_loss: 0.9489 - val_accuracy: 0.7276\n",
      "Epoch 43/50\n",
      "23/23 [==============================] - 0s 11ms/step - loss: 0.9722 - accuracy: 0.7339 - val_loss: 0.9512 - val_accuracy: 0.7276\n",
      "Epoch 44/50\n",
      "23/23 [==============================] - 0s 11ms/step - loss: 0.9753 - accuracy: 0.7339 - val_loss: 0.9513 - val_accuracy: 0.7276\n",
      "Epoch 45/50\n",
      "23/23 [==============================] - 0s 11ms/step - loss: 0.9858 - accuracy: 0.7303 - val_loss: 0.9488 - val_accuracy: 0.7204\n",
      "Epoch 46/50\n",
      "23/23 [==============================] - 0s 12ms/step - loss: 0.9643 - accuracy: 0.7321 - val_loss: 0.9486 - val_accuracy: 0.7204\n",
      "Epoch 47/50\n",
      "23/23 [==============================] - 0s 11ms/step - loss: 0.9674 - accuracy: 0.7339 - val_loss: 0.9577 - val_accuracy: 0.7240\n",
      "Epoch 48/50\n",
      "23/23 [==============================] - 0s 11ms/step - loss: 0.9645 - accuracy: 0.7312 - val_loss: 0.9456 - val_accuracy: 0.7204\n",
      "Epoch 49/50\n",
      "23/23 [==============================] - 0s 11ms/step - loss: 0.9566 - accuracy: 0.7348 - val_loss: 0.9360 - val_accuracy: 0.7204\n",
      "Epoch 50/50\n",
      "23/23 [==============================] - 0s 11ms/step - loss: 0.9487 - accuracy: 0.7339 - val_loss: 0.9444 - val_accuracy: 0.7204\n"
     ]
    },
    {
     "data": {
      "text/plain": [
       "<keras.callbacks.History at 0x2848b13e4c0>"
      ]
     },
     "execution_count": 38,
     "metadata": {},
     "output_type": "execute_result"
    }
   ],
   "source": [
    "model.fit(X_train, y_train, batch_size=50,validation_split = 0.2, epochs =50, verbose =1)"
   ]
  },
  {
   "cell_type": "code",
   "execution_count": 39,
   "id": "12b96926",
   "metadata": {},
   "outputs": [],
   "source": [
    "y_pred=model.predict(X_test)"
   ]
  },
  {
   "cell_type": "code",
   "execution_count": 40,
   "id": "4d0eae8c",
   "metadata": {},
   "outputs": [],
   "source": [
    "y_pred1 = np.argmax(y_pred, axis = 1)"
   ]
  },
  {
   "cell_type": "code",
   "execution_count": 41,
   "id": "ba8978a1",
   "metadata": {},
   "outputs": [],
   "source": [
    "y_test1  = np.argmax(y_test, axis = 1)"
   ]
  },
  {
   "cell_type": "code",
   "execution_count": 42,
   "id": "5bcd02d9",
   "metadata": {},
   "outputs": [
    {
     "name": "stdout",
     "output_type": "stream",
     "text": [
      "0.7646076794657763\n"
     ]
    }
   ],
   "source": [
    "print(accuracy_score(y_pred1, y_test1))"
   ]
  },
  {
   "cell_type": "code",
   "execution_count": null,
   "id": "5d0a8871",
   "metadata": {},
   "outputs": [],
   "source": []
  },
  {
   "cell_type": "markdown",
   "id": "0c7fdd1b",
   "metadata": {},
   "source": [
    "# Stacked RNN"
   ]
  },
  {
   "cell_type": "code",
   "execution_count": 51,
   "id": "51f5027d",
   "metadata": {},
   "outputs": [],
   "source": [
    "def stacked_vanilla_rnn():\n",
    "    model = Sequential()\n",
    "    model.add(SimpleRNN(50, input_shape = (49,1), return_sequences = True)) \n",
    "    # return_sequences parameter has to be set True to stack\n",
    "    model.add(SimpleRNN(50, return_sequences = False))\n",
    "    model.add(Dense(46))\n",
    "    model.add(Activation('softmax'))\n",
    "    \n",
    "    adam = tf.keras.optimizers.Adam(learning_rate = 0.001)\n",
    "    model.compile(loss = 'categorical_crossentropy', optimizer = adam, metrics = ['accuracy'])\n",
    "    \n",
    "    return model"
   ]
  },
  {
   "cell_type": "code",
   "execution_count": 52,
   "id": "9a1bf5a4",
   "metadata": {},
   "outputs": [],
   "source": [
    "model = KerasClassifier(build_fn = stacked_vanilla_rnn, epochs = 10, batch_size = 50, verbose = 1)"
   ]
  },
  {
   "cell_type": "code",
   "execution_count": 53,
   "id": "629d5821",
   "metadata": {},
   "outputs": [
    {
     "name": "stdout",
     "output_type": "stream",
     "text": [
      "Epoch 1/10\n",
      "28/28 [==============================] - 2s 21ms/step - loss: 1.9049 - accuracy: 0.6179\n",
      "Epoch 2/10\n",
      "28/28 [==============================] - 1s 20ms/step - loss: 1.2249 - accuracy: 0.7147\n",
      "Epoch 3/10\n",
      "28/28 [==============================] - 1s 20ms/step - loss: 1.1808 - accuracy: 0.7147\n",
      "Epoch 4/10\n",
      "28/28 [==============================] - 1s 19ms/step - loss: 1.1722 - accuracy: 0.7147\n",
      "Epoch 5/10\n",
      "28/28 [==============================] - 1s 19ms/step - loss: 1.1584 - accuracy: 0.7147\n",
      "Epoch 6/10\n",
      "28/28 [==============================] - 1s 19ms/step - loss: 1.1457 - accuracy: 0.7147\n",
      "Epoch 7/10\n",
      "28/28 [==============================] - 1s 18ms/step - loss: 1.1181 - accuracy: 0.7147\n",
      "Epoch 8/10\n",
      "28/28 [==============================] - 0s 17ms/step - loss: 1.0847 - accuracy: 0.7204\n",
      "Epoch 9/10\n",
      "28/28 [==============================] - 0s 18ms/step - loss: 1.0668 - accuracy: 0.7305\n",
      "Epoch 10/10\n",
      "28/28 [==============================] - 1s 18ms/step - loss: 1.0725 - accuracy: 0.7211\n"
     ]
    },
    {
     "data": {
      "text/plain": [
       "<keras.callbacks.History at 0x2848b3dd7c0>"
      ]
     },
     "execution_count": 53,
     "metadata": {},
     "output_type": "execute_result"
    }
   ],
   "source": [
    "model.fit(X_train, y_train)"
   ]
  },
  {
   "cell_type": "code",
   "execution_count": 54,
   "id": "e98d59e1",
   "metadata": {},
   "outputs": [],
   "source": [
    "y_pred = model.predict(X_test)"
   ]
  },
  {
   "cell_type": "code",
   "execution_count": 55,
   "id": "3af07ea0",
   "metadata": {},
   "outputs": [
    {
     "name": "stdout",
     "output_type": "stream",
     "text": [
      "0.7612687813021702\n"
     ]
    }
   ],
   "source": [
    "print(accuracy_score(y_pred, y_test1))"
   ]
  },
  {
   "cell_type": "code",
   "execution_count": null,
   "id": "6e63975b",
   "metadata": {},
   "outputs": [],
   "source": []
  }
 ],
 "metadata": {
  "kernelspec": {
   "display_name": "Python 3",
   "language": "python",
   "name": "python3"
  },
  "language_info": {
   "codemirror_mode": {
    "name": "ipython",
    "version": 3
   },
   "file_extension": ".py",
   "mimetype": "text/x-python",
   "name": "python",
   "nbconvert_exporter": "python",
   "pygments_lexer": "ipython3",
   "version": "3.9.5"
  }
 },
 "nbformat": 4,
 "nbformat_minor": 5
}
